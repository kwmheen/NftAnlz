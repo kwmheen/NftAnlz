{
 "cells": [
  {
   "cell_type": "markdown",
   "id": "a77a7edf",
   "metadata": {},
   "source": [
    "# Library Import"
   ]
  },
  {
   "cell_type": "code",
   "execution_count": 1,
   "id": "4ceeafc9",
   "metadata": {},
   "outputs": [],
   "source": [
    "import etherscan\n",
    "\n",
    "from datetime import datetime\n",
    "import time\n",
    "\n",
    "import json\n",
    "import os"
   ]
  },
  {
   "cell_type": "markdown",
   "id": "11fb61ca",
   "metadata": {},
   "source": [
    "# Constant Setting"
   ]
  },
  {
   "cell_type": "code",
   "execution_count": 2,
   "id": "6e4f4a86",
   "metadata": {},
   "outputs": [],
   "source": [
    "NFT_NAME = 'BEANZ'\n",
    "CONTRACT_ADDRESS = '0x306b1ea3ecdf94aB739F1910bbda052Ed4A9f949'\n",
    "#OPENSEA/아무NFT클릭/좌측하단_세부정보클릭/ContractAddress\n",
    "\n",
    "API_KEY = 'APIKEYAPIKEYAPIKEYAPIKEYAPIKEYAPIKEYAPIKEY'\n",
    "#Etherscan API Key\n",
    "\n",
    "DATA_DIR = f'../GeneratedData/{NFT_NAME}'\n",
    "JSON_DIR = f'../GeneratedData/{NFT_NAME}/ContractTxn_{NFT_NAME}.json'"
   ]
  },
  {
   "cell_type": "markdown",
   "id": "abf3dcd9",
   "metadata": {},
   "source": [
    "## Check & Read existing JSON"
   ]
  },
  {
   "cell_type": "code",
   "execution_count": 3,
   "id": "1bff8fe3",
   "metadata": {},
   "outputs": [
    {
     "name": "stdout",
     "output_type": "stream",
     "text": [
      "The file does not exist\n",
      "Start Block Number: 0\n",
      "Txn List: 0\n"
     ]
    }
   ],
   "source": [
    "es = etherscan.Client(\n",
    "    api_key=API_KEY,\n",
    "    cache_expire_after=5,\n",
    ")\n",
    "\n",
    "if not os.path.exists(DATA_DIR):\n",
    "    os.mkdir(DATA_DIR)\n",
    "\n",
    "file_exists = os.path.exists(JSON_DIR)\n",
    "\n",
    "if file_exists:\n",
    "    print(\"The file exists\")\n",
    "else:\n",
    "    print(\"The file does not exist\")\n",
    "    \n",
    "block_number = 0\n",
    "total_txn_list = []\n",
    "\n",
    "if file_exists:\n",
    "    with open(JSON_DIR, 'r') as file:\n",
    "        json_data = file.read()\n",
    "\n",
    "    total_txn_list = json.loads(json_data)\n",
    "    block_number = total_txn_list[-1]['block_number']\n",
    "    \n",
    "print(f'Start Block Number: {block_number}')\n",
    "print(f'Txn List: {len(total_txn_list)}')"
   ]
  },
  {
   "cell_type": "markdown",
   "id": "f0c796ea",
   "metadata": {},
   "source": [
    "# Request Txn"
   ]
  },
  {
   "cell_type": "code",
   "execution_count": 4,
   "id": "e7f3f43d",
   "metadata": {},
   "outputs": [
    {
     "name": "stdout",
     "output_type": "stream",
     "text": [
      "Total Request List: 58896\n",
      "CPU times: user 1.05 s, sys: 105 ms, total: 1.15 s\n",
      "Wall time: 53.6 s\n"
     ]
    }
   ],
   "source": [
    "%%time\n",
    "\n",
    "while True:\n",
    "    time.sleep(5)\n",
    "    txn_request = es.get_transactions_by_address(CONTRACT_ADDRESS, \n",
    "                                                  start_block=block_number, \n",
    "                                                  limit=10000)\n",
    "\n",
    "    total_txn_list += txn_request\n",
    "    if len(txn_request) == 10000:\n",
    "        block_number = txn_request[-1]['block_number']\n",
    "    else:\n",
    "        #TODO Request가 limit과 동일하더라도 우연에 의할 수 있기 때문에 검토해보아야함\n",
    "        break\n",
    "\n",
    "print(f'Total Request List: {len(total_txn_list)}')\n"
   ]
  },
  {
   "cell_type": "markdown",
   "id": "401120c5",
   "metadata": {},
   "source": [
    "# Save Txn"
   ]
  },
  {
   "cell_type": "code",
   "execution_count": 5,
   "id": "ed73da49",
   "metadata": {},
   "outputs": [
    {
     "name": "stdout",
     "output_type": "stream",
     "text": [
      "File Saved with: ../GeneratedData/BEANZ/ContractTxn_BEANZ.json\n"
     ]
    }
   ],
   "source": [
    "with open(JSON_DIR, 'w') as file:\n",
    "    json.dump(total_txn_list, file)\n",
    "    print(f'File Saved with: {JSON_DIR}')"
   ]
  }
 ],
 "metadata": {
  "kernelspec": {
   "display_name": "Python 3 (ipykernel)",
   "language": "python",
   "name": "python3"
  },
  "language_info": {
   "codemirror_mode": {
    "name": "ipython",
    "version": 3
   },
   "file_extension": ".py",
   "mimetype": "text/x-python",
   "name": "python",
   "nbconvert_exporter": "python",
   "pygments_lexer": "ipython3",
   "version": "3.10.0"
  }
 },
 "nbformat": 4,
 "nbformat_minor": 5
}

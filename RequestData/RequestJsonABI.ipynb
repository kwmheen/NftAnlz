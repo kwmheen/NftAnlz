{
 "cells": [
  {
   "cell_type": "code",
   "execution_count": 1,
   "id": "ca6a9a47",
   "metadata": {},
   "outputs": [],
   "source": [
    "import requests"
   ]
  },
  {
   "cell_type": "code",
   "execution_count": 2,
   "id": "72e31a4e",
   "metadata": {},
   "outputs": [],
   "source": [
    "ETHERSCAN_API_KEY = 'APIKEYAPIKEYAPIKEYAPIKEYAPIKEYAPIKEY'\n",
    "CONTRACT_ADDRESS = '0x46FdfCb3Cd89A1C54D36EE83a4ADC184747B40D9'\n",
    "CONTRACT_NAME = 'MetaKongz'"
   ]
  },
  {
   "cell_type": "code",
   "execution_count": null,
   "id": "8b12b0b0",
   "metadata": {},
   "outputs": [],
   "source": [
    "url = f'''https://api.etherscan.io/api?module=contract&action=getabi&address={CONTRACT_ADDRESS}&apikey={ETHERSCAN_API_KEY}'''\n",
    "response = requests.get(url)\n",
    "\n",
    "# Check if the request was successful\n",
    "if response.status_code == 200:\n",
    "    print(response.text)\n",
    "else:\n",
    "    print(f'Request failed with status {response.status_code}')"
   ]
  }
 ],
 "metadata": {
  "kernelspec": {
   "display_name": "Python 3 (ipykernel)",
   "language": "python",
   "name": "python3"
  },
  "language_info": {
   "codemirror_mode": {
    "name": "ipython",
    "version": 3
   },
   "file_extension": ".py",
   "mimetype": "text/x-python",
   "name": "python",
   "nbconvert_exporter": "python",
   "pygments_lexer": "ipython3",
   "version": "3.10.0"
  }
 },
 "nbformat": 4,
 "nbformat_minor": 5
}
